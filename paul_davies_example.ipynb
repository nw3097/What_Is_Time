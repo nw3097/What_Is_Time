{
 "cells": [
  {
   "cell_type": "markdown",
   "metadata": {},
   "source": [
    "**motivation**<br>\n",
    "Paul Davies wrote a piece for the 2018 summer special edition of the <i>Scientific American</i>, titled \"That Mysterious Flow\", where he gave an example of special relativity (screenshots in below cell). The goal of this notebook is to replicate the results in his example."
   ]
  },
  {
   "cell_type": "markdown",
   "metadata": {},
   "source": [
    "<img src=\"davies_1.png\" width=\"600\" height=\"600\" />         "
   ]
  },
  {
   "cell_type": "markdown",
   "metadata": {},
   "source": [
    "<img src=\"davies_2.png\" width=\"600\" height=\"600\" />         "
   ]
  },
  {
   "cell_type": "code",
   "execution_count": 1,
   "metadata": {
    "collapsed": true
   },
   "outputs": [],
   "source": [
    "import numpy as np"
   ]
  },
  {
   "cell_type": "markdown",
   "metadata": {},
   "source": [
    "**from Lorentz tranformation we define the following functions:**<br>\n",
    "**L(x, t, v, c)** returns location and time of what's deemed moving <br/>\n",
    "**f(x_prime, t, v, c)** returns location of what's deemed stationary, and time of what's deemed moving <br/>\n",
    "**g(x, x_prime, v, c)** returns time of what's deemed stationary, and time of what's deemed moving <br/>\n",
    "**h(t, t_prime, v, c)** returns location of what's deemed stationary, and location of what's deemed moving"
   ]
  },
  {
   "cell_type": "code",
   "execution_count": 2,
   "metadata": {
    "collapsed": true
   },
   "outputs": [],
   "source": [
    "def L(x, t, v, c):\n",
    "    '''x: location coordinate of what's deemed stationary\n",
    "       t: time coordinate of what's deemed stationary\n",
    "       v: speed of what's deemed moving, including direction \n",
    "       c: speed of light\n",
    "       return: location and time of what's deemed moving\n",
    "       in the train/platform example, if v > 0, then (x, t) is platform; if v < 0, then (x, t) is train'''\n",
    "    root = (1-(v**2/c**2))**0.5\n",
    "    x_prime = (x - v*t)/root\n",
    "    t_prime = (t - (v/c**2)*x)/root\n",
    "    return np.array([x_prime, t_prime])"
   ]
  },
  {
   "cell_type": "code",
   "execution_count": 3,
   "metadata": {
    "collapsed": true
   },
   "outputs": [],
   "source": [
    "def f(x_prime, t, v, c):\n",
    "    '''here the cross coordinates are given, either (train location, platform time) or (platform location, train time)\n",
    "       x_prime: location coordinate of what's deemed moving\n",
    "       t: time coordinate of what's deemed stationary\n",
    "       v: speed of what's deemed moving, including direction (if v > 0, train is prime; if v < 0, platform is prime)\n",
    "       c: speed of light\n",
    "       return: location of what's deemed stationary, and time of what's deemed moving\n",
    "       '''\n",
    "    root = (1-(v**2/c**2))**0.5\n",
    "    x = root * x_prime + v*t\n",
    "    t_prime = (t - (v/c**2)*x)/root\n",
    "    return np.array([x, t_prime])"
   ]
  },
  {
   "cell_type": "code",
   "execution_count": 4,
   "metadata": {
    "collapsed": true
   },
   "outputs": [],
   "source": [
    "def g(x, x_prime, v, c):\n",
    "    '''\n",
    "    x: location coordinate of what's deemed stationary\n",
    "    x_prime: location coordinate of what's deemed moving\n",
    "    v: speed of what's deemed moving, including direction (if v > 0, train is prime; if v < 0, platform is prime)\n",
    "    c: speed of light\n",
    "    return: time of what's deemed stationary, and time of what's deemed moving\n",
    "    '''\n",
    "    root = (1-(v**2/c**2))**0.5\n",
    "    t = (x/v) - (x_prime/v)*root\n",
    "    t_prime = (t - (v/c**2)*x)/root\n",
    "    return np.array([t, t_prime])"
   ]
  },
  {
   "cell_type": "code",
   "execution_count": 5,
   "metadata": {
    "collapsed": true
   },
   "outputs": [],
   "source": [
    "def h(t, t_prime, v, c):\n",
    "    '''\n",
    "    t: time coordinate of what's deemed stationary\n",
    "    t_prime: time coordinate of what's deemed moving\n",
    "    v: speed of what's deemed moving, including direction (if v > 0, train is prime; if v < 0, platform is prime)\n",
    "    c: speed of light  \n",
    "    return: location of what's deemed stationary, and location of what's deemed moving\n",
    "    '''\n",
    "    root = (1-(v**2/c**2))**0.5\n",
    "    x = (c**2/v)*t - (c**2/v)*t_prime*root\n",
    "    x_prime = (x - v*t)/root\n",
    "    return np.array([x, x_prime])"
   ]
  },
  {
   "cell_type": "markdown",
   "metadata": {},
   "source": [
    "In Davies's example, let the unit of time be minute, and the unit of distance be light minute (i.e. the distance covered by light in one minute). So $c$ = 1, and $v$ = 0.8. If we deem rocket as moving, then $v$ = 0.8; if we deem earth-mars as moving, then $v$ = -0.8. We also normalize 12:00PM in the example to be 0, so for example, $t$ = 12:15PM would be $t$ = 15 in our formulation."
   ]
  },
  {
   "cell_type": "markdown",
   "metadata": {},
   "source": [
    "## As seen from earth"
   ]
  },
  {
   "cell_type": "markdown",
   "metadata": {},
   "source": [
    "**12:00pm - the martian sends a signal to the earthling.**"
   ]
  },
  {
   "cell_type": "markdown",
   "metadata": {},
   "source": [
    "**12:11pm - knowing the rocket’s speed, the earthling deduces that it encounters the signal while on its way to Mars.**"
   ]
  },
  {
   "cell_type": "code",
   "execution_count": 6,
   "metadata": {},
   "outputs": [
    {
     "data": {
      "text/plain": [
       "11.11111111111111"
      ]
     },
     "execution_count": 6,
     "metadata": {},
     "output_type": "execute_result"
    }
   ],
   "source": [
    "# from earthling's perspective, when does the rocket receive the signal?\n",
    "# let the time when rocket receives the signal be t, then t*v + t*c = 20, t = 20/(v + c)\n",
    "v = 0.8\n",
    "c = 1\n",
    "t = 20/1.8 # approximately 11 minutes after noon\n",
    "t"
   ]
  },
  {
   "cell_type": "markdown",
   "metadata": {},
   "source": [
    "**12:20pm - the signal arrives at Earth. The earthling has confirmed his earlier hypothesis. Noon on Mars is the same as noon on Earth.**"
   ]
  },
  {
   "cell_type": "markdown",
   "metadata": {},
   "source": [
    "**12:25pm - The ship arrives at Mars. The ship is traveling at 80% the speed of light, so what takes light 20 minutes takes the ship 25.**"
   ]
  },
  {
   "cell_type": "markdown",
   "metadata": {},
   "source": [
    "## As seen from the rocket"
   ]
  },
  {
   "cell_type": "markdown",
   "metadata": {},
   "source": [
    "**the distance between earth and mars, as measured by the rocket is 12 minutes**"
   ]
  },
  {
   "cell_type": "code",
   "execution_count": 7,
   "metadata": {},
   "outputs": [
    {
     "data": {
      "text/plain": [
       "(array([0., 0.]), array([12., 16.]), 11.999999999999996)"
      ]
     },
     "execution_count": 7,
     "metadata": {},
     "output_type": "execute_result"
    }
   ],
   "source": [
    "# rocket deemed stationary, earth-mars move leftwards\n",
    "f(0,0,-0.8,1), f(20,0,-0.8,1), f(20,0,-0.8,1)[0] - f(0,0,-0.8,1)[0] "
   ]
  },
  {
   "cell_type": "markdown",
   "metadata": {},
   "source": [
    "**12:00pm - passing Earth, the rocket man hypothesizes that the Martian has begun to eat. He prepares to wait 12 minutes for verification.** <br>\n",
    "Here the assumption is that the rocket man doesn't know special relativity! He naively assumes that when his watch is 12:00pm, so is the martian's watch 12 light minutes away. As shown in the below cell, the martian's watch is actually pointing to 12:16pm!"
   ]
  },
  {
   "cell_type": "code",
   "execution_count": 8,
   "metadata": {},
   "outputs": [
    {
     "data": {
      "text/plain": [
       "array([20., 16.])"
      ]
     },
     "execution_count": 8,
     "metadata": {},
     "output_type": "execute_result"
    }
   ],
   "source": [
    "L(12, 0, -0.8, 1)"
   ]
  },
  {
   "cell_type": "markdown",
   "metadata": {},
   "source": [
    "**12:07pm - the signal arrives, disproving the hypothesis. The rocket man infers that the Martian ate sometime before noon (rocket time).**"
   ]
  },
  {
   "cell_type": "code",
   "execution_count": 9,
   "metadata": {},
   "outputs": [
    {
     "data": {
      "text/plain": [
       "array([0.        , 6.66666667])"
      ]
     },
     "execution_count": 9,
     "metadata": {},
     "output_type": "execute_result"
    }
   ],
   "source": [
    "# from earthling's perspective, when does the rocket receives the signal?\n",
    "# let the time when rocket receives the signal be t, then t*v + t*c = 20, t = 20/(v + c)\n",
    "v = 0.8\n",
    "c = 1\n",
    "t = 20/1.8 # approximately 11 minutes after noon\n",
    "\n",
    "# from earthling's perspective, where does the rocket receive the signal?\n",
    "x = t*v\n",
    "\n",
    "# taking (x, t) from the calculation in this cell, applying Lorentz transformation, we have\n",
    "L(x, t, 0.8, 1) # approximately 7 minutes rocket time"
   ]
  },
  {
   "cell_type": "markdown",
   "metadata": {},
   "source": [
    "**12:15pm - rocket arrives at mars**"
   ]
  },
  {
   "cell_type": "code",
   "execution_count": 10,
   "metadata": {},
   "outputs": [
    {
     "data": {
      "text/plain": [
       "array([15., 25.])"
      ]
     },
     "execution_count": 10,
     "metadata": {},
     "output_type": "execute_result"
    }
   ],
   "source": [
    "# 12:15 - rocket arrives at Mars, this means that rocket origin coincides with mars, whose location is 20 in the earth\n",
    "# mars frame; notice that the earthling believes that rocket arrives at Mars at 12:25\n",
    "g(0, 20, -0.8, 1)"
   ]
  },
  {
   "cell_type": "markdown",
   "metadata": {},
   "source": [
    "**12:33pm - signal from mars arrives at earth according to rocket time**"
   ]
  },
  {
   "cell_type": "code",
   "execution_count": 11,
   "metadata": {},
   "outputs": [
    {
     "data": {
      "text/plain": [
       "array([-26.66666667,  33.33333333])"
      ]
     },
     "execution_count": 11,
     "metadata": {},
     "output_type": "execute_result"
    }
   ],
   "source": [
    "# 12:33 - signal arrives at earth\n",
    "# when signal arrives at earth, earth records this as (0, 20), because the origin receives the signal traveling 20 min\n",
    "# after noon, translate this into rocket coordinates, we have\n",
    "L(0, 20, 0.8, 1)"
   ]
  },
  {
   "cell_type": "markdown",
   "metadata": {},
   "source": [
    "**discussion**<br>\n",
    "Did you notice something strange? To the earthling, the signal arrives at earth at 12:20, and then the ship arrives at Mars at 12:25; to the rocket man, the ship arrives at Mars at 12:15, and then the signal arrives at earth at 12:33. The earthling thinks that the signal arrives at earth before the ship arrives at Mars, but the rocket man thinks the opposite! Earth and Rocket have their own judgment on simultaneity, one consequence of which is that things may not happen in the same order!<br>\n",
    "\n",
    "When the signal arrives at earth, you ask the earthling: does the ship arrive at Mars yet? He looks at his watch and says not yet; when the ship does arrive at Mars, you ask the rocket man: does the signal arrive at earth yet? He looks at <i>his</i> watch and says not yet! It seems that Earthling's future (ship arrives at Mars) is rocket man's past; earthling's past (signal arrives at earth) is rocket man's future!"
   ]
  }
 ],
 "metadata": {
  "kernelspec": {
   "display_name": "Python 3",
   "language": "python",
   "name": "python3"
  },
  "language_info": {
   "codemirror_mode": {
    "name": "ipython",
    "version": 3
   },
   "file_extension": ".py",
   "mimetype": "text/x-python",
   "name": "python",
   "nbconvert_exporter": "python",
   "pygments_lexer": "ipython3",
   "version": "3.5.2"
  }
 },
 "nbformat": 4,
 "nbformat_minor": 2
}
